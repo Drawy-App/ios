{
 "cells": [
  {
   "cell_type": "code",
   "execution_count": 1,
   "metadata": {
    "collapsed": true
   },
   "outputs": [],
   "source": [
    "import coremltools\n",
    "from PIL import Image\n",
    "import os\n",
    "import re\n",
    "import shutil\n",
    "import json\n",
    "import yaml\n",
    "import csv\n",
    "from collections import OrderedDict"
   ]
  },
  {
   "cell_type": "markdown",
   "metadata": {},
   "source": [
    "## Open source model"
   ]
  },
  {
   "cell_type": "code",
   "execution_count": 2,
   "metadata": {
    "collapsed": true
   },
   "outputs": [],
   "source": [
    "model_folder = '/Users/landyrev/Downloads/latest'\n",
    "\n",
    "model_name = filter(\n",
    "    lambda x: re.match(r'.*.caffemodel', x, re.IGNORECASE), \n",
    "    os.listdir(model_folder)\n",
    ")[0]\n",
    "\n",
    "model_path = os.path.join(model_folder, model_name)"
   ]
  },
  {
   "cell_type": "markdown",
   "metadata": {},
   "source": [
    "## Load and convert model"
   ]
  },
  {
   "cell_type": "code",
   "execution_count": null,
   "metadata": {
    "collapsed": true
   },
   "outputs": [],
   "source": [
    "m = coremltools.converters.caffe.convert(\n",
    "    (\n",
    "        model_path, os.path.join(model_folder, 'deploy.prototxt'), \n",
    "        os.path.join(model_folder, 'mean.binaryproto')\n",
    "    ),\n",
    "    class_labels=os.path.join(model_folder, 'labels.txt'), \n",
    "    image_input_names='data'\n",
    ")"
   ]
  },
  {
   "cell_type": "markdown",
   "metadata": {},
   "source": [
    "## Add model metadata"
   ]
  },
  {
   "cell_type": "code",
   "execution_count": 4,
   "metadata": {
    "collapsed": true
   },
   "outputs": [],
   "source": [
    "m.author = 'Aleksey Landyrev'\n",
    "m.short_description = 'How to draw model'\n",
    "m.save('realmodel.mlmodel')"
   ]
  },
  {
   "cell_type": "markdown",
   "metadata": {},
   "source": [
    "## Copy model into target project"
   ]
  },
  {
   "cell_type": "code",
   "execution_count": 5,
   "metadata": {
    "collapsed": true
   },
   "outputs": [],
   "source": [
    "shutil.copy('./realmodel.mlmodel', '../../htd/Data/realmodel.mlmodel')"
   ]
  },
  {
   "cell_type": "markdown",
   "metadata": {},
   "source": [
    "## Copy needed images"
   ]
  },
  {
   "cell_type": "code",
   "execution_count": 3,
   "metadata": {
    "collapsed": true
   },
   "outputs": [],
   "source": [
    "shutil.rmtree('../../htd/Data/Images.bundle')\n",
    "os.mkdir('../../htd/Data/Images.bundle')\n",
    "\n",
    "for label in open(os.path.join(model_folder, 'labels.txt')):\n",
    "    label = label[:-1].replace(\" \", \"_\")\n",
    "    if label == \"random\":\n",
    "        continue\n",
    "    \n",
    "    src_dir = os.path.join('../AllImages/', label)\n",
    "    dst_dir = os.path.join('../../htd/Data/Images.bundle/', label)\n",
    "    meta_file = os.path.join(src_dir, 'meta.yaml')\n",
    "    \n",
    "    os.mkdir(dst_dir)\n",
    "    \n",
    "    for image in os.listdir(src_dir):\n",
    "        if not re.match(r'.*(\\.png|\\.jpg)', image, re.IGNORECASE):\n",
    "            continue\n",
    "        shutil.copy(\n",
    "            os.path.join(src_dir, image),\n",
    "            os.path.join(dst_dir, label + \"_\" + image)\n",
    "        )"
   ]
  },
  {
   "cell_type": "markdown",
   "metadata": {},
   "source": [
    "# Load meta"
   ]
  },
  {
   "cell_type": "code",
   "execution_count": 6,
   "metadata": {},
   "outputs": [],
   "source": [
    "with open('./levels.csv') as f:\n",
    "    reader = csv.DictReader(f)\n",
    "    tutorials = [t for t in reader if not t[\"name\"] == \"random\"]\n",
    "    \n",
    "for tutorial in tutorials:\n",
    "    label = tutorial[\"name\"]\n",
    "    dst_dir = os.path.join(\"../../htd/Data/Images.bundle/\", label)\n",
    "    tutorial.update({\n",
    "        \"tutorials\": sorted([os.path.join(label, x) \n",
    "             for x in os.listdir(dst_dir)\n",
    "             if x.endswith('.jpg')\n",
    "        ])\n",
    "    })\n",
    "\n",
    "yaml.safe_dump(\n",
    "    tutorials,\n",
    "    open(\"../../htd/Data/Images.bundle/levels.yaml\", \"w\"),\n",
    "    default_flow_style=False,\n",
    "    allow_unicode=True\n",
    ")\n",
    "\n",
    "with open('../../htd/Data/ru.lproj/Levels.strings', 'w') as f:\n",
    "    f.writelines(\n",
    "        ['\"{0}\" = \"{1}\";\\n'.format(t[\"name\"], t[\"title_ru\"]) for t in tutorials]\n",
    "    )\n",
    "    \n",
    "with open('../../htd/Data/en.lproj/Levels.strings', 'w') as f:\n",
    "    f.writelines(\n",
    "        ['\"{0}\" = \"{1}\";\\n'.format(t[\"name\"], t[\"title_en\"]) for t in tutorials]\n",
    "    )"
   ]
  },
  {
   "cell_type": "markdown",
   "metadata": {},
   "source": [
    "## Try to predict test image"
   ]
  },
  {
   "cell_type": "code",
   "execution_count": 13,
   "metadata": {},
   "outputs": [
    {
     "name": "stdout",
     "output_type": "stream",
     "text": [
      "lutz_swan0 0\n",
      "lutz_lighthouse0 0\n",
      "random 0\n",
      "lutz_boat0 99\n",
      "lutz_pug0 0\n",
      "lutz_woman0 0\n"
     ]
    }
   ],
   "source": [
    "def predict(image_name):\n",
    "    image = Image.open(image_name).convert('L')\n",
    "    image = image.resize((224, 224))\n",
    "    features = m.predict({\n",
    "        'data': image\n",
    "    }).get('softmax')\n",
    "    for feature in features:\n",
    "        print feature, int(features[feature] * 100)\n",
    "        \n",
    "predict('/Users/landyrev/Downloads/fvsdfvsdfv.jpg')"
   ]
  },
  {
   "cell_type": "code",
   "execution_count": null,
   "metadata": {
    "collapsed": true
   },
   "outputs": [],
   "source": []
  }
 ],
 "metadata": {
  "kernelspec": {
   "display_name": "Python 2",
   "language": "python",
   "name": "python2"
  },
  "language_info": {
   "codemirror_mode": {
    "name": "ipython",
    "version": 2
   },
   "file_extension": ".py",
   "mimetype": "text/x-python",
   "name": "python",
   "nbconvert_exporter": "python",
   "pygments_lexer": "ipython2",
   "version": "2.7.14"
  }
 },
 "nbformat": 4,
 "nbformat_minor": 2
}
