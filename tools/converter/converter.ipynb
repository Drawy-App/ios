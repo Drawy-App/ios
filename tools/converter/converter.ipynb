{
 "cells": [
  {
   "cell_type": "code",
   "execution_count": 1,
   "metadata": {},
   "outputs": [],
   "source": [
    "import coremltools\n",
    "from PIL import Image\n",
    "import os\n",
    "import re\n",
    "import shutil\n",
    "import json\n",
    "import yaml\n",
    "import csv\n",
    "from collections import OrderedDict"
   ]
  },
  {
   "cell_type": "markdown",
   "metadata": {},
   "source": [
    "## Copy needed images"
   ]
  },
  {
   "cell_type": "code",
   "execution_count": 2,
   "metadata": {},
   "outputs": [],
   "source": [
    "android_bundle = '../../../htd-android/app/src/main/assets/Images.bundle'\n",
    "ios_bundle = '../../htd/Data/Images.bundle'\n",
    "\n",
    "shutil.rmtree(android_bundle)\n",
    "os.mkdir(android_bundle)\n",
    "shutil.rmtree(ios_bundle)\n",
    "os.mkdir(ios_bundle)\n",
    "\n",
    "for label in open(os.path.join(\".\", 'labels.txt')):\n",
    "    label = label[:-1].replace(\" \", \"_\")\n",
    "    if label == \"random\":\n",
    "        continue\n",
    "    \n",
    "    src_dir = os.path.join('../AllImages/', label)\n",
    "    android_dst_dir = os.path.join(android_bundle, label)\n",
    "    ios_dst_dir = os.path.join(ios_bundle, label)\n",
    "    meta_file = os.path.join(src_dir, 'meta.yaml')\n",
    "    \n",
    "    os.mkdir(android_dst_dir)\n",
    "    os.mkdir(ios_dst_dir)\n",
    "    \n",
    "    for image in os.listdir(src_dir):\n",
    "        if not re.match(r'.*(\\.png|\\.jpg)', image, re.IGNORECASE):\n",
    "            continue\n",
    "        shutil.copy(\n",
    "            os.path.join(src_dir, image),\n",
    "            os.path.join(ios_dst_dir, label + \"_\" + image)\n",
    "        )\n",
    "        shutil.copy(\n",
    "            os.path.join(src_dir, image),\n",
    "            os.path.join(android_dst_dir, label + \"_\" + image)\n",
    "        )"
   ]
  },
  {
   "cell_type": "markdown",
   "metadata": {},
   "source": [
    "# Load meta"
   ]
  },
  {
   "cell_type": "code",
   "execution_count": 3,
   "metadata": {},
   "outputs": [],
   "source": [
    "with open('./levels.csv') as f:\n",
    "    reader = csv.DictReader(f)\n",
    "    tutorials = [t for t in reader if not t[\"name\"] == \"random\"]\n",
    "    \n",
    "for tutorial in tutorials:\n",
    "    label = tutorial[\"name\"]\n",
    "    dst_dir = os.path.join(\"../../htd/Data/Images.bundle/\", label)\n",
    "    tutorial.update({\n",
    "        \"tutorials\": sorted([os.path.join(label, x) \n",
    "             for x in os.listdir(dst_dir)\n",
    "             if x.endswith('.jpg')\n",
    "        ])\n",
    "    })\n",
    "\n",
    "yaml.safe_dump(\n",
    "    tutorials,\n",
    "    open(os.path.join(android_bundle, \"levels.yaml\"), \"w\"),\n",
    "    default_flow_style=False,\n",
    "    allow_unicode=True\n",
    ")\n",
    "\n",
    "yaml.safe_dump(\n",
    "    tutorials,\n",
    "    open(os.path.join(ios_bundle, \"levels.yaml\"), \"w\"),\n",
    "    default_flow_style=False,\n",
    "    allow_unicode=True\n",
    ")\n",
    "\n",
    "with open('../../htd/Data/ru.lproj/Levels.strings', 'w') as f:\n",
    "    f.writelines(\n",
    "        ['\"{0}\" = \"{1}\";\\n'.format(t[\"name\"], t[\"title_ru\"]) for t in tutorials]\n",
    "    )\n",
    "    \n",
    "with open('../../htd/Data/en.lproj/Levels.strings', 'w') as f:\n",
    "    f.writelines(\n",
    "        ['\"{0}\" = \"{1}\";\\n'.format(t[\"name\"], t[\"title_en\"]) for t in tutorials]\n",
    "    )"
   ]
  },
  {
   "cell_type": "code",
   "execution_count": 5,
   "metadata": {},
   "outputs": [
    {
     "data": {
      "text/plain": [
       "'../../../htd-android/app/src/main/assets/Images.bundle'"
      ]
     },
     "execution_count": 5,
     "metadata": {},
     "output_type": "execute_result"
    }
   ],
   "source": [
    "android_bundle"
   ]
  },
  {
   "cell_type": "code",
   "execution_count": null,
   "metadata": {},
   "outputs": [],
   "source": []
  }
 ],
 "metadata": {
  "kernelspec": {
   "display_name": "Python 2",
   "language": "python",
   "name": "python2"
  },
  "language_info": {
   "codemirror_mode": {
    "name": "ipython",
    "version": 2
   },
   "file_extension": ".py",
   "mimetype": "text/x-python",
   "name": "python",
   "nbconvert_exporter": "python",
   "pygments_lexer": "ipython2",
   "version": "2.7.14"
  }
 },
 "nbformat": 4,
 "nbformat_minor": 2
}
