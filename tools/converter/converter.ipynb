{
 "cells": [
  {
   "cell_type": "code",
   "execution_count": 2,
   "metadata": {},
   "outputs": [],
   "source": [
    "import coremltools\n",
    "from PIL import Image\n",
    "import os\n",
    "import re\n",
    "import shutil\n",
    "import json\n",
    "import yaml\n",
    "import csv\n",
    "from collections import OrderedDict"
   ]
  },
  {
   "cell_type": "markdown",
   "metadata": {},
   "source": [
    "## Open source model"
   ]
  },
  {
   "cell_type": "code",
   "execution_count": 2,
   "metadata": {},
   "outputs": [
    {
     "ename": "OSError",
     "evalue": "[Errno 2] No such file or directory: '/Users/landyrev/Downloads/latest'",
     "output_type": "error",
     "traceback": [
      "\u001b[0;31m---------------------------------------------------------------------------\u001b[0m",
      "\u001b[0;31mOSError\u001b[0m                                   Traceback (most recent call last)",
      "\u001b[0;32m<ipython-input-2-58a921f64b9a>\u001b[0m in \u001b[0;36m<module>\u001b[0;34m()\u001b[0m\n\u001b[1;32m      3\u001b[0m model_name = filter(\n\u001b[1;32m      4\u001b[0m     \u001b[0;32mlambda\u001b[0m \u001b[0mx\u001b[0m\u001b[0;34m:\u001b[0m \u001b[0mre\u001b[0m\u001b[0;34m.\u001b[0m\u001b[0mmatch\u001b[0m\u001b[0;34m(\u001b[0m\u001b[0;34mr'.*.caffemodel'\u001b[0m\u001b[0;34m,\u001b[0m \u001b[0mx\u001b[0m\u001b[0;34m,\u001b[0m \u001b[0mre\u001b[0m\u001b[0;34m.\u001b[0m\u001b[0mIGNORECASE\u001b[0m\u001b[0;34m)\u001b[0m\u001b[0;34m,\u001b[0m\u001b[0;34m\u001b[0m\u001b[0m\n\u001b[0;32m----> 5\u001b[0;31m     \u001b[0mos\u001b[0m\u001b[0;34m.\u001b[0m\u001b[0mlistdir\u001b[0m\u001b[0;34m(\u001b[0m\u001b[0mmodel_folder\u001b[0m\u001b[0;34m)\u001b[0m\u001b[0;34m\u001b[0m\u001b[0m\n\u001b[0m\u001b[1;32m      6\u001b[0m )[0]\n\u001b[1;32m      7\u001b[0m \u001b[0;34m\u001b[0m\u001b[0m\n",
      "\u001b[0;31mOSError\u001b[0m: [Errno 2] No such file or directory: '/Users/landyrev/Downloads/latest'"
     ]
    }
   ],
   "source": [
    "model_folder = '/Users/landyrev/Downloads/latest'\n",
    "\n",
    "model_name = filter(\n",
    "    lambda x: re.match(r'.*.caffemodel', x, re.IGNORECASE), \n",
    "    os.listdir(model_folder)\n",
    ")[0]\n",
    "\n",
    "model_path = os.path.join(model_folder, model_name)"
   ]
  },
  {
   "cell_type": "markdown",
   "metadata": {},
   "source": [
    "## Load and convert model"
   ]
  },
  {
   "cell_type": "code",
   "execution_count": 3,
   "metadata": {
    "collapsed": true
   },
   "outputs": [],
   "source": [
    "m = coremltools.converters.caffe.convert(\n",
    "    (\n",
    "        model_path, os.path.join(model_folder, 'deploy.prototxt'), \n",
    "        os.path.join(model_folder, 'mean.binaryproto')\n",
    "    ),\n",
    "    class_labels=os.path.join(model_folder, 'labels.txt'), \n",
    "    image_input_names='data'\n",
    ")"
   ]
  },
  {
   "cell_type": "markdown",
   "metadata": {},
   "source": [
    "## Add model metadata"
   ]
  },
  {
   "cell_type": "code",
   "execution_count": 4,
   "metadata": {
    "collapsed": true
   },
   "outputs": [],
   "source": [
    "m.author = 'Aleksey Landyrev'\n",
    "m.short_description = 'How to draw model'\n",
    "m.save('realmodel.mlmodel')"
   ]
  },
  {
   "cell_type": "markdown",
   "metadata": {},
   "source": [
    "## Copy model into target project"
   ]
  },
  {
   "cell_type": "code",
   "execution_count": 5,
   "metadata": {
    "collapsed": true
   },
   "outputs": [],
   "source": [
    "shutil.copy('./realmodel.mlmodel', '../../htd/Data/realmodel.mlmodel')"
   ]
  },
  {
   "cell_type": "markdown",
   "metadata": {},
   "source": [
    "## Copy needed images"
   ]
  },
  {
   "cell_type": "code",
   "execution_count": 12,
   "metadata": {},
   "outputs": [],
   "source": [
    "android_bundle = '../../../htd-android/app/src/main/assets/Images.bundle'\n",
    "ios_bundle = '../../htd/Data/Images.bundle'\n",
    "\n",
    "shutil.rmtree(android_bundle)\n",
    "os.mkdir(android_bundle)\n",
    "shutil.rmtree(ios_bundle)\n",
    "os.mkdir(ios_bundle)\n",
    "\n",
    "for label in open(os.path.join(\".\", 'labels.txt')):\n",
    "    label = label[:-1].replace(\" \", \"_\")\n",
    "    if label == \"random\":\n",
    "        continue\n",
    "    \n",
    "    src_dir = os.path.join('../AllImages/', label)\n",
    "    android_dst_dir = os.path.join(android_bundle, label)\n",
    "    ios_dst_dir = os.path.join(ios_bundle, label)\n",
    "    meta_file = os.path.join(src_dir, 'meta.yaml')\n",
    "    \n",
    "    os.mkdir(android_dst_dir)\n",
    "    os.mkdir(ios_dst_dir)\n",
    "    \n",
    "    for image in os.listdir(src_dir):\n",
    "        if not re.match(r'.*(\\.png|\\.jpg)', image, re.IGNORECASE):\n",
    "            continue\n",
    "        shutil.copy(\n",
    "            os.path.join(src_dir, image),\n",
    "            os.path.join(ios_dst_dir, label + \"_\" + image)\n",
    "        )\n",
    "        shutil.copy(\n",
    "            os.path.join(src_dir, image),\n",
    "            os.path.join(android_dst_dir, label + \"_\" + image)\n",
    "        )"
   ]
  },
  {
   "cell_type": "markdown",
   "metadata": {},
   "source": [
    "# Load meta"
   ]
  },
  {
   "cell_type": "code",
   "execution_count": 13,
   "metadata": {},
   "outputs": [],
   "source": [
    "with open('./levels.csv') as f:\n",
    "    reader = csv.DictReader(f)\n",
    "    tutorials = [t for t in reader if not t[\"name\"] == \"random\"]\n",
    "    \n",
    "for tutorial in tutorials:\n",
    "    label = tutorial[\"name\"]\n",
    "    dst_dir = os.path.join(\"../../htd/Data/Images.bundle/\", label)\n",
    "    tutorial.update({\n",
    "        \"tutorials\": sorted([os.path.join(label, x) \n",
    "             for x in os.listdir(dst_dir)\n",
    "             if x.endswith('.jpg')\n",
    "        ])\n",
    "    })\n",
    "\n",
    "yaml.safe_dump(\n",
    "    tutorials,\n",
    "    open(os.path.join(android_bundle, \"levels.yaml\"), \"w\"),\n",
    "    default_flow_style=False,\n",
    "    allow_unicode=True\n",
    ")\n",
    "\n",
    "yaml.safe_dump(\n",
    "    tutorials,\n",
    "    open(os.path.join(ios_bundle, \"levels.yaml\"), \"w\"),\n",
    "    default_flow_style=False,\n",
    "    allow_unicode=True\n",
    ")\n",
    "\n",
    "with open('../../htd/Data/ru.lproj/Levels.strings', 'w') as f:\n",
    "    f.writelines(\n",
    "        ['\"{0}\" = \"{1}\";\\n'.format(t[\"name\"], t[\"title_ru\"]) for t in tutorials]\n",
    "    )\n",
    "    \n",
    "with open('../../htd/Data/en.lproj/Levels.strings', 'w') as f:\n",
    "    f.writelines(\n",
    "        ['\"{0}\" = \"{1}\";\\n'.format(t[\"name\"], t[\"title_en\"]) for t in tutorials]\n",
    "    )"
   ]
  },
  {
   "cell_type": "markdown",
   "metadata": {},
   "source": [
    "## Try to predict test image"
   ]
  },
  {
   "cell_type": "code",
   "execution_count": 13,
   "metadata": {},
   "outputs": [
    {
     "name": "stdout",
     "output_type": "stream",
     "text": [
      "lutz_swan0 0\n",
      "lutz_lighthouse0 0\n",
      "random 0\n",
      "lutz_boat0 99\n",
      "lutz_pug0 0\n",
      "lutz_woman0 0\n"
     ]
    }
   ],
   "source": [
    "def predict(image_name):\n",
    "    image = Image.open(image_name).convert('L')\n",
    "    image = image.resize((224, 224))\n",
    "    features = m.predict({\n",
    "        'data': image\n",
    "    }).get('softmax')\n",
    "    for feature in features:\n",
    "        print feature, int(features[feature] * 100)\n",
    "        \n",
    "predict('/Users/landyrev/Downloads/fvsdfvsdfv.jpg')"
   ]
  },
  {
   "cell_type": "code",
   "execution_count": null,
   "metadata": {
    "collapsed": true
   },
   "outputs": [],
   "source": []
  }
 ],
 "metadata": {
  "kernelspec": {
   "display_name": "Python 2",
   "language": "python",
   "name": "python2"
  },
  "language_info": {
   "codemirror_mode": {
    "name": "ipython",
    "version": 2
   },
   "file_extension": ".py",
   "mimetype": "text/x-python",
   "name": "python",
   "nbconvert_exporter": "python",
   "pygments_lexer": "ipython2",
   "version": "2.7.14"
  }
 },
 "nbformat": 4,
 "nbformat_minor": 2
}
