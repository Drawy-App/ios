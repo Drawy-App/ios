{
 "cells": [
  {
   "cell_type": "code",
   "execution_count": 1,
   "metadata": {
    "collapsed": true
   },
   "outputs": [],
   "source": [
    "import coremltools\n",
    "from PIL import Image\n",
    "import os\n",
    "import re\n",
    "import shutil\n",
    "import json\n",
    "import yaml"
   ]
  },
  {
   "cell_type": "markdown",
   "metadata": {},
   "source": [
    "## Open source model"
   ]
  },
  {
   "cell_type": "code",
   "execution_count": 2,
   "metadata": {
    "collapsed": true
   },
   "outputs": [],
   "source": [
    "model_folder = '/Users/landyrev/Downloads/latest'\n",
    "\n",
    "model_name = filter(\n",
    "    lambda x: re.match(r'.*.caffemodel', x, re.IGNORECASE), \n",
    "    os.listdir(model_folder)\n",
    ")[0]\n",
    "\n",
    "model_path = os.path.join(model_folder, model_name)"
   ]
  },
  {
   "cell_type": "markdown",
   "metadata": {},
   "source": [
    "## Load and convert model"
   ]
  },
  {
   "cell_type": "code",
   "execution_count": 3,
   "metadata": {
    "collapsed": true
   },
   "outputs": [],
   "source": [
    "m = coremltools.converters.caffe.convert(\n",
    "    (\n",
    "        model_path, os.path.join(model_folder, 'deploy.prototxt'), \n",
    "        os.path.join(model_folder, 'mean.binaryproto')\n",
    "    ),\n",
    "    class_labels=os.path.join(model_folder, 'labels.txt'), \n",
    "    image_input_names='data'\n",
    ")"
   ]
  },
  {
   "cell_type": "markdown",
   "metadata": {},
   "source": [
    "## Add model metadata"
   ]
  },
  {
   "cell_type": "code",
   "execution_count": 4,
   "metadata": {
    "collapsed": true
   },
   "outputs": [],
   "source": [
    "m.author = 'Aleksey Landyrev'\n",
    "m.short_description = 'How to draw model'\n",
    "m.save('realmodel.mlmodel')"
   ]
  },
  {
   "cell_type": "markdown",
   "metadata": {},
   "source": [
    "## Copy model into target project"
   ]
  },
  {
   "cell_type": "code",
   "execution_count": 6,
   "metadata": {},
   "outputs": [],
   "source": [
    "shutil.copy('./realmodel.mlmodel', '../../htd/Data/realmodel.mlmodel')"
   ]
  },
  {
   "cell_type": "markdown",
   "metadata": {},
   "source": [
    "## Copy needed images"
   ]
  },
  {
   "cell_type": "code",
   "execution_count": 8,
   "metadata": {},
   "outputs": [
    {
     "name": "stdout",
     "output_type": "stream",
     "text": [
      "\u001b[34mAllImages\u001b[m\u001b[m \u001b[34mconverter\u001b[m\u001b[m\r\n"
     ]
    }
   ],
   "source": [
    "!ls ../"
   ]
  },
  {
   "cell_type": "code",
   "execution_count": 13,
   "metadata": {},
   "outputs": [
    {
     "name": "stdout",
     "output_type": "stream",
     "text": [
      "{'tutorials': ['lutz_aquarium0/lutz_aquarium0_00.jpg', 'lutz_aquarium0/lutz_aquarium0_01.jpg', 'lutz_aquarium0/lutz_aquarium0_02.jpg', 'lutz_aquarium0/lutz_aquarium0_03.jpg', 'lutz_aquarium0/lutz_aquarium0_04.jpg'], 'preview': 'lutz_aquarium0/lutz_aquarium0_preview.png', 'name': 'lutz_aquarium0'}\n",
      "{'tutorials': ['lutz_boat0/lutz_boat0_00.jpg', 'lutz_boat0/lutz_boat0_01.jpg', 'lutz_boat0/lutz_boat0_02.jpg', 'lutz_boat0/lutz_boat0_03.jpg', 'lutz_boat0/lutz_boat0_04.jpg', 'lutz_boat0/lutz_boat0_05.jpg'], 'preview': 'lutz_boat0/lutz_boat0_preview.png', 'name': 'lutz_boat0'}\n",
      "{'tutorials': ['lutz_boat1/lutz_boat1_00.jpg', 'lutz_boat1/lutz_boat1_01.jpg', 'lutz_boat1/lutz_boat1_02.jpg', 'lutz_boat1/lutz_boat1_03.jpg', 'lutz_boat1/lutz_boat1_04.jpg', 'lutz_boat1/lutz_boat1_05.jpg'], 'preview': 'lutz_boat1/lutz_boat1_preview.png', 'name': 'lutz_boat1'}\n",
      "{'tutorials': ['lutz_buffalo0/lutz_buffalo0_00.jpg', 'lutz_buffalo0/lutz_buffalo0_01.jpg', 'lutz_buffalo0/lutz_buffalo0_02.jpg', 'lutz_buffalo0/lutz_buffalo0_03.jpg', 'lutz_buffalo0/lutz_buffalo0_04.jpg', 'lutz_buffalo0/lutz_buffalo0_05.jpg', 'lutz_buffalo0/lutz_buffalo0_06.jpg'], 'preview': 'lutz_buffalo0/lutz_buffalo0_preview.png', 'name': 'lutz_buffalo0'}\n",
      "{'tutorials': ['lutz_but1/lutz_but1_00.jpg', 'lutz_but1/lutz_but1_01.jpg', 'lutz_but1/lutz_but1_02.jpg', 'lutz_but1/lutz_but1_03.jpg', 'lutz_but1/lutz_but1_04.jpg'], 'preview': 'lutz_but1/lutz_but1_preview.png', 'name': 'lutz_but1'}\n",
      "{'tutorials': ['lutz_but3/lutz_but3_00.jpg', 'lutz_but3/lutz_but3_01.jpg', 'lutz_but3/lutz_but3_02.jpg', 'lutz_but3/lutz_but3_03.jpg', 'lutz_but3/lutz_but3_04.jpg'], 'preview': 'lutz_but3/lutz_but3_preview.png', 'name': 'lutz_but3'}\n",
      "{'tutorials': ['lutz_buttercup0/lutz_buttercup0_00.jpg', 'lutz_buttercup0/lutz_buttercup0_01.jpg', 'lutz_buttercup0/lutz_buttercup0_02.jpg', 'lutz_buttercup0/lutz_buttercup0_03.jpg', 'lutz_buttercup0/lutz_buttercup0_04.jpg'], 'preview': 'lutz_buttercup0/lutz_buttercup0_preview.png', 'name': 'lutz_buttercup0'}\n",
      "{'tutorials': ['lutz_cat0/lutz_cat0_00.jpg', 'lutz_cat0/lutz_cat0_01.jpg', 'lutz_cat0/lutz_cat0_02.jpg', 'lutz_cat0/lutz_cat0_03.jpg', 'lutz_cat0/lutz_cat0_04.jpg'], 'preview': 'lutz_cat0/lutz_cat0_preview.png', 'name': 'lutz_cat0'}\n",
      "{'tutorials': ['lutz_daisy0/lutz_daisy0_00.jpg', 'lutz_daisy0/lutz_daisy0_01.jpg', 'lutz_daisy0/lutz_daisy0_02.jpg', 'lutz_daisy0/lutz_daisy0_03.jpg', 'lutz_daisy0/lutz_daisy0_04.jpg'], 'preview': 'lutz_daisy0/lutz_daisy0_preview.png', 'name': 'lutz_daisy0'}\n",
      "{'tutorials': ['lutz_dog1/lutz_dog1_00.jpg', 'lutz_dog1/lutz_dog1_01.jpg', 'lutz_dog1/lutz_dog1_02.jpg', 'lutz_dog1/lutz_dog1_03.jpg', 'lutz_dog1/lutz_dog1_04.jpg'], 'preview': 'lutz_dog1/lutz_dog1_preview.png', 'name': 'lutz_dog1'}\n",
      "{'tutorials': ['lutz_duck0/lutz_duck0_00.jpg', 'lutz_duck0/lutz_duck0_01.jpg', 'lutz_duck0/lutz_duck0_02.jpg', 'lutz_duck0/lutz_duck0_03.jpg', 'lutz_duck0/lutz_duck0_04.jpg'], 'preview': 'lutz_duck0/lutz_duck0_preview.png', 'name': 'lutz_duck0'}\n",
      "{'tutorials': ['lutz_el1/lutz_el1_00.jpg', 'lutz_el1/lutz_el1_01.jpg', 'lutz_el1/lutz_el1_02.jpg', 'lutz_el1/lutz_el1_03.jpg', 'lutz_el1/lutz_el1_04.jpg'], 'preview': 'lutz_el1/lutz_el1_preview.png', 'name': 'lutz_el1'}\n",
      "{'tutorials': ['lutz_face2/lutz_face2_00.jpg', 'lutz_face2/lutz_face2_01.jpg', 'lutz_face2/lutz_face2_02.jpg', 'lutz_face2/lutz_face2_03.jpg', 'lutz_face2/lutz_face2_04.jpg', 'lutz_face2/lutz_face2_05.jpg', 'lutz_face2/lutz_face2_06.jpg'], 'preview': 'lutz_face2/lutz_face2_preview.png', 'name': 'lutz_face2'}\n",
      "{'tutorials': ['lutz_fish0/lutz_fish0_00.jpg', 'lutz_fish0/lutz_fish0_01.jpg', 'lutz_fish0/lutz_fish0_02.jpg', 'lutz_fish0/lutz_fish0_03.jpg'], 'preview': 'lutz_fish0/lutz_fish0_preview.png', 'name': 'lutz_fish0'}\n",
      "{'tutorials': ['lutz_flower0/lutz_flower0_00.jpg', 'lutz_flower0/lutz_flower0_01.jpg', 'lutz_flower0/lutz_flower0_02.jpg', 'lutz_flower0/lutz_flower0_03.jpg', 'lutz_flower0/lutz_flower0_04.jpg', 'lutz_flower0/lutz_flower0_05.jpg', 'lutz_flower0/lutz_flower0_06.jpg'], 'preview': 'lutz_flower0/lutz_flower0_preview.png', 'name': 'lutz_flower0'}\n",
      "{'tutorials': ['lutz_fox0/lutz_fox0_00.jpg', 'lutz_fox0/lutz_fox0_01.jpg', 'lutz_fox0/lutz_fox0_02.jpg', 'lutz_fox0/lutz_fox0_03.jpg', 'lutz_fox0/lutz_fox0_04.jpg', 'lutz_fox0/lutz_fox0_05.jpg'], 'preview': 'lutz_fox0/lutz_fox0_preview.png', 'name': 'lutz_fox0'}\n",
      "{'tutorials': ['lutz_futhsia0/lutz_futhsia0_00.jpg', 'lutz_futhsia0/lutz_futhsia0_01.jpg', 'lutz_futhsia0/lutz_futhsia0_02.jpg', 'lutz_futhsia0/lutz_futhsia0_03.jpg', 'lutz_futhsia0/lutz_futhsia0_04.jpg', 'lutz_futhsia0/lutz_futhsia0_05.jpg'], 'preview': 'lutz_futhsia0/lutz_futhsia0_preview.png', 'name': 'lutz_futhsia0'}\n",
      "{'tutorials': ['lutz_globe0/lutz_globe0_00.jpg', 'lutz_globe0/lutz_globe0_01.jpg', 'lutz_globe0/lutz_globe0_02.jpg', 'lutz_globe0/lutz_globe0_03.jpg', 'lutz_globe0/lutz_globe0_04.jpg'], 'preview': 'lutz_globe0/lutz_globe0_preview.png', 'name': 'lutz_globe0'}\n",
      "{'tutorials': ['lutz_goose0/lutz_goose0_00.jpg', 'lutz_goose0/lutz_goose0_01.jpg', 'lutz_goose0/lutz_goose0_02.jpg', 'lutz_goose0/lutz_goose0_03.jpg', 'lutz_goose0/lutz_goose0_04.jpg', 'lutz_goose0/lutz_goose0_05.jpg'], 'preview': 'lutz_goose0/lutz_goose0_preview.png', 'name': 'lutz_goose0'}\n",
      "{'tutorials': ['lutz_heron0/lutz_heron0_00.jpg', 'lutz_heron0/lutz_heron0_01.jpg', 'lutz_heron0/lutz_heron0_02.jpg', 'lutz_heron0/lutz_heron0_03.jpg', 'lutz_heron0/lutz_heron0_04.jpg', 'lutz_heron0/lutz_heron0_05.jpg'], 'preview': 'lutz_heron0/lutz_heron0_preview.png', 'name': 'lutz_heron0'}\n",
      "{'tutorials': ['lutz_horse0/lutz_horse0_00.jpg', 'lutz_horse0/lutz_horse0_01.jpg', 'lutz_horse0/lutz_horse0_02.jpg', 'lutz_horse0/lutz_horse0_03.jpg', 'lutz_horse0/lutz_horse0_04.jpg', 'lutz_horse0/lutz_horse0_05.jpg', 'lutz_horse0/lutz_horse0_06.jpg', 'lutz_horse0/lutz_horse0_07.jpg', 'lutz_horse0/lutz_horse0_08.jpg'], 'preview': 'lutz_horse0/lutz_horse0_preview.png', 'name': 'lutz_horse0'}\n",
      "{'tutorials': ['lutz_jackpulit0/lutz_jackpulit0_00.jpg', 'lutz_jackpulit0/lutz_jackpulit0_01.jpg', 'lutz_jackpulit0/lutz_jackpulit0_02.jpg', 'lutz_jackpulit0/lutz_jackpulit0_03.jpg', 'lutz_jackpulit0/lutz_jackpulit0_04.jpg', 'lutz_jackpulit0/lutz_jackpulit0_05.jpg'], 'preview': 'lutz_jackpulit0/lutz_jackpulit0_preview.png', 'name': 'lutz_jackpulit0'}\n",
      "{'tutorials': ['lutz_lighthouse0/lutz_lighthouse0_00.jpg', 'lutz_lighthouse0/lutz_lighthouse0_01.jpg', 'lutz_lighthouse0/lutz_lighthouse0_02.jpg', 'lutz_lighthouse0/lutz_lighthouse0_03.jpg', 'lutz_lighthouse0/lutz_lighthouse0_04.jpg', 'lutz_lighthouse0/lutz_lighthouse0_05.jpg'], 'preview': 'lutz_lighthouse0/lutz_lighthouse0_preview.png', 'name': 'lutz_lighthouse0'}\n",
      "{'tutorials': ['lutz_mapple0/lutz_mapple0_00.jpg', 'lutz_mapple0/lutz_mapple0_01.jpg', 'lutz_mapple0/lutz_mapple0_02.jpg', 'lutz_mapple0/lutz_mapple0_03.jpg'], 'preview': 'lutz_mapple0/lutz_mapple0_preview.png', 'name': 'lutz_mapple0'}\n",
      "{'tutorials': ['lutz_morningglory0/lutz_morningglory0_00.jpg', 'lutz_morningglory0/lutz_morningglory0_01.jpg', 'lutz_morningglory0/lutz_morningglory0_02.jpg', 'lutz_morningglory0/lutz_morningglory0_03.jpg'], 'preview': 'lutz_morningglory0/lutz_morningglory0_preview.png', 'name': 'lutz_morningglory0'}\n",
      "{'tutorials': ['lutz_mouse1/lutz_mouse1_00.jpg', 'lutz_mouse1/lutz_mouse1_01.jpg', 'lutz_mouse1/lutz_mouse1_02.jpg', 'lutz_mouse1/lutz_mouse1_03.jpg'], 'preview': 'lutz_mouse1/lutz_mouse1_preview.png', 'name': 'lutz_mouse1'}\n",
      "{'tutorials': ['lutz_narcissus0/lutz_narcissus0_00.jpg', 'lutz_narcissus0/lutz_narcissus0_01.jpg', 'lutz_narcissus0/lutz_narcissus0_02.jpg', 'lutz_narcissus0/lutz_narcissus0_03.jpg'], 'preview': 'lutz_narcissus0/lutz_narcissus0_preview.png', 'name': 'lutz_narcissus0'}\n",
      "{'tutorials': ['lutz_owl0/lutz_owl0_00.jpg', 'lutz_owl0/lutz_owl0_01.jpg', 'lutz_owl0/lutz_owl0_02.jpg', 'lutz_owl0/lutz_owl0_03.jpg', 'lutz_owl0/lutz_owl0_04.jpg'], 'preview': 'lutz_owl0/lutz_owl0_preview.png', 'name': 'lutz_owl0'}\n",
      "{'tutorials': ['lutz_owl1/lutz_owl1_01.jpg', 'lutz_owl1/lutz_owl1_02.jpg', 'lutz_owl1/lutz_owl1_03.jpg', 'lutz_owl1/lutz_owl1_04.jpg', 'lutz_owl1/lutz_owl1_05.jpg'], 'preview': 'lutz_owl1/lutz_owl1_preview.png', 'name': 'lutz_owl1'}\n",
      "{'tutorials': ['lutz_peng0/lutz_peng0_00.jpg', 'lutz_peng0/lutz_peng0_01.jpg', 'lutz_peng0/lutz_peng0_02.jpg', 'lutz_peng0/lutz_peng0_03.jpg'], 'preview': 'lutz_peng0/lutz_peng0_preview.png', 'name': 'lutz_peng0'}\n",
      "{'tutorials': ['lutz_pig0/lutz_pig0_00.jpg', 'lutz_pig0/lutz_pig0_01.jpg', 'lutz_pig0/lutz_pig0_02.jpg', 'lutz_pig0/lutz_pig0_03.jpg', 'lutz_pig0/lutz_pig0_04.jpg'], 'preview': 'lutz_pig0/lutz_pig0_preview.png', 'name': 'lutz_pig0'}\n",
      "{'tutorials': ['lutz_plane0/lutz_plane0_00.jpg', 'lutz_plane0/lutz_plane0_01.jpg', 'lutz_plane0/lutz_plane0_02.jpg', 'lutz_plane0/lutz_plane0_03.jpg'], 'preview': 'lutz_plane0/lutz_plane0_preview.png', 'name': 'lutz_plane0'}\n",
      "{'tutorials': ['lutz_plane1/lutz_plane1_00.jpg', 'lutz_plane1/lutz_plane1_01.jpg', 'lutz_plane1/lutz_plane1_02.jpg', 'lutz_plane1/lutz_plane1_03.jpg'], 'preview': 'lutz_plane1/lutz_plane1_preview.png', 'name': 'lutz_plane1'}\n",
      "{'tutorials': ['lutz_plane2/lutz_plane2_00.jpg', 'lutz_plane2/lutz_plane2_01.jpg', 'lutz_plane2/lutz_plane2_02.jpg', 'lutz_plane2/lutz_plane2_03.jpg'], 'preview': 'lutz_plane2/lutz_plane2_preview.png', 'name': 'lutz_plane2'}\n",
      "{'tutorials': ['lutz_pug0/lutz_pug0_00.jpg', 'lutz_pug0/lutz_pug0_01.jpg', 'lutz_pug0/lutz_pug0_02.jpg', 'lutz_pug0/lutz_pug0_03.jpg', 'lutz_pug0/lutz_pug0_04.jpg', 'lutz_pug0/lutz_pug0_05.jpg', 'lutz_pug0/lutz_pug0_06.jpg'], 'preview': 'lutz_pug0/lutz_pug0_preview.png', 'name': 'lutz_pug0'}\n",
      "{'tutorials': ['lutz_rab0/lutz_rab0_00.jpg', 'lutz_rab0/lutz_rab0_01.jpg', 'lutz_rab0/lutz_rab0_02.jpg', 'lutz_rab0/lutz_rab0_03.jpg', 'lutz_rab0/lutz_rab0_04.jpg'], 'preview': 'lutz_rab0/lutz_rab0_preview.png', 'name': 'lutz_rab0'}\n",
      "{'tutorials': ['lutz_rab3/lutz_rab3_00.jpg', 'lutz_rab3/lutz_rab3_01.jpg', 'lutz_rab3/lutz_rab3_02.jpg', 'lutz_rab3/lutz_rab3_03.jpg', 'lutz_rab3/lutz_rab3_04.jpg', 'lutz_rab3/lutz_rab3_05.jpg'], 'preview': 'lutz_rab3/lutz_rab3_preview.png', 'name': 'lutz_rab3'}\n",
      "{'tutorials': ['lutz_radish0/lutz_radish0_00.jpg', 'lutz_radish0/lutz_radish0_01.jpg', 'lutz_radish0/lutz_radish0_02.jpg', 'lutz_radish0/lutz_radish0_03.jpg'], 'preview': 'lutz_radish0/lutz_radish0_preview.png', 'name': 'lutz_radish0'}\n"
     ]
    },
    {
     "name": "stdout",
     "output_type": "stream",
     "text": [
      "{'tutorials': ['lutz_snail0/lutz_snail0_00.jpg', 'lutz_snail0/lutz_snail0_01.jpg', 'lutz_snail0/lutz_snail0_02.jpg', 'lutz_snail0/lutz_snail0_03.jpg'], 'preview': 'lutz_snail0/lutz_snail0_preview.png', 'name': 'lutz_snail0'}\n",
      "{'tutorials': ['lutz_squirrel0/lutz_squirrel0_00.jpg', 'lutz_squirrel0/lutz_squirrel0_01.jpg', 'lutz_squirrel0/lutz_squirrel0_02.jpg'], 'preview': 'lutz_squirrel0/lutz_squirrel0_preview.png', 'name': 'lutz_squirrel0'}\n",
      "{'tutorials': ['lutz_stork0/lutz_stork0_00.jpg', 'lutz_stork0/lutz_stork0_01.jpg', 'lutz_stork0/lutz_stork0_02.jpg', 'lutz_stork0/lutz_stork0_03.jpg', 'lutz_stork0/lutz_stork0_04.jpg', 'lutz_stork0/lutz_stork0_05.jpg'], 'preview': 'lutz_stork0/lutz_stork0_preview.png', 'name': 'lutz_stork0'}\n",
      "{'tutorials': ['lutz_swallow0/lutz_swallow0_00.jpg', 'lutz_swallow0/lutz_swallow0_01.jpg', 'lutz_swallow0/lutz_swallow0_02.jpg', 'lutz_swallow0/lutz_swallow0_03.jpg', 'lutz_swallow0/lutz_swallow0_04.jpg'], 'preview': 'lutz_swallow0/lutz_swallow0_preview.png', 'name': 'lutz_swallow0'}\n",
      "{'tutorials': ['lutz_swallow2/lutz_swallow2_00.jpg', 'lutz_swallow2/lutz_swallow2_01.jpg', 'lutz_swallow2/lutz_swallow2_02.jpg', 'lutz_swallow2/lutz_swallow2_03.jpg', 'lutz_swallow2/lutz_swallow2_04.jpg'], 'preview': 'lutz_swallow2/lutz_swallow2_preview.png', 'name': 'lutz_swallow2'}\n",
      "{'tutorials': ['lutz_swan0/lutz_swan0_00.jpg', 'lutz_swan0/lutz_swan0_01.jpg', 'lutz_swan0/lutz_swan0_02.jpg', 'lutz_swan0/lutz_swan0_03.jpg', 'lutz_swan0/lutz_swan0_04.jpg', 'lutz_swan0/lutz_swan0_05.jpg'], 'preview': 'lutz_swan0/lutz_swan0_preview.png', 'name': 'lutz_swan0'}\n",
      "{'tutorials': ['lutz_turtle0/lutz_turtle0_00.jpg', 'lutz_turtle0/lutz_turtle0_01.jpg', 'lutz_turtle0/lutz_turtle0_02.jpg', 'lutz_turtle0/lutz_turtle0_03.jpg'], 'preview': 'lutz_turtle0/lutz_turtle0_preview.png', 'name': 'lutz_turtle0'}\n",
      "{'tutorials': ['lutz_woman0/lutz_woman0_00.jpg', 'lutz_woman0/lutz_woman0_01.jpg', 'lutz_woman0/lutz_woman0_02.jpg', 'lutz_woman0/lutz_woman0_03.jpg', 'lutz_woman0/lutz_woman0_04.jpg', 'lutz_woman0/lutz_woman0_05.jpg'], 'preview': 'lutz_woman0/lutz_woman0_preview.png', 'name': 'lutz_woman0'}\n"
     ]
    }
   ],
   "source": [
    "tutorials = []\n",
    "\n",
    "shutil.rmtree('../../htd/Data/Images.bundle')\n",
    "os.mkdir('../../htd/Data/Images.bundle')\n",
    "\n",
    "for label in open(os.path.join(model_folder, 'labels.txt')):\n",
    "    label = label[:-1].replace(\" \", \"_\")\n",
    "    if label == \"random\":\n",
    "        continue\n",
    "    \n",
    "    src_dir = os.path.join('../AllImages/', label)\n",
    "    dst_dir = os.path.join('../../htd/Data/Images.bundle/', label)\n",
    "    meta_file = os.path.join(src_dir, 'meta.yaml')\n",
    "    \n",
    "    os.mkdir(dst_dir)\n",
    "    \n",
    "    for image in os.listdir(src_dir):\n",
    "        if not re.match(r'.*(\\.png|\\.jpg)', image, re.IGNORECASE):\n",
    "            continue\n",
    "        shutil.copy(\n",
    "            os.path.join(src_dir, image),\n",
    "            os.path.join(dst_dir, label + \"_\" + image)\n",
    "        )\n",
    "    \n",
    "    tutorial = {\n",
    "        \"name\": label,\n",
    "        \"preview\": os.path.join(label, label+ '_preview.png'),\n",
    "        \"tutorials\": sorted([os.path.join(label, x) \n",
    "             for x in os.listdir(dst_dir)\n",
    "             if x.endswith('.jpg')\n",
    "            ])\n",
    "    }\n",
    "    print tutorial\n",
    "    if os.path.isfile(meta_file):\n",
    "        tutorial.update(yaml.load(open(meta_file)))\n",
    "    tutorials.append(tutorial)\n",
    "\n",
    "yaml.dump(\n",
    "    tutorials,\n",
    "    open(\"../../htd/Data/Images.bundle/levels.yaml\", \"w\")\n",
    ")"
   ]
  },
  {
   "cell_type": "markdown",
   "metadata": {},
   "source": [
    "## Try to predict test image"
   ]
  },
  {
   "cell_type": "code",
   "execution_count": 13,
   "metadata": {},
   "outputs": [
    {
     "name": "stdout",
     "output_type": "stream",
     "text": [
      "lutz_swan0 0\n",
      "lutz_lighthouse0 0\n",
      "random 0\n",
      "lutz_boat0 99\n",
      "lutz_pug0 0\n",
      "lutz_woman0 0\n"
     ]
    }
   ],
   "source": [
    "def predict(image_name):\n",
    "    image = Image.open(image_name).convert('L')\n",
    "    image = image.resize((224, 224))\n",
    "    features = m.predict({\n",
    "        'data': image\n",
    "    }).get('softmax')\n",
    "    for feature in features:\n",
    "        print feature, int(features[feature] * 100)\n",
    "        \n",
    "predict('/Users/landyrev/Downloads/fvsdfvsdfv.jpg')"
   ]
  },
  {
   "cell_type": "code",
   "execution_count": null,
   "metadata": {
    "collapsed": true
   },
   "outputs": [],
   "source": []
  }
 ],
 "metadata": {
  "kernelspec": {
   "display_name": "Python 2",
   "language": "python",
   "name": "python2"
  },
  "language_info": {
   "codemirror_mode": {
    "name": "ipython",
    "version": 2
   },
   "file_extension": ".py",
   "mimetype": "text/x-python",
   "name": "python",
   "nbconvert_exporter": "python",
   "pygments_lexer": "ipython2",
   "version": "2.7.14"
  }
 },
 "nbformat": 4,
 "nbformat_minor": 2
}
